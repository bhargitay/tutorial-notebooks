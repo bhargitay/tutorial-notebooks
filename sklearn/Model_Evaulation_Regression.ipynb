{
 "cells": [
  {
   "cell_type": "markdown",
   "source": [
    "# Model Evaluation for Regression problems"
   ],
   "metadata": {
    "collapsed": false
   }
  },
  {
   "cell_type": "code",
   "execution_count": 30,
   "metadata": {
    "collapsed": true,
    "pycharm": {
     "is_executing": false
    }
   },
   "outputs": [],
   "source": [
    "import pandas as pd\n",
    "from sklearn.model_selection import train_test_split\n",
    "from sklearn.linear_model import LinearRegression\n",
    "from sklearn.metrics import mean_absolute_error, mean_squared_error, r2_score"
   ]
  },
  {
   "cell_type": "markdown",
   "source": [
    "## I. Loading the dataset"
   ],
   "metadata": {
    "collapsed": false,
    "pycharm": {
     "name": "#%% md\n"
    }
   }
  },
  {
   "cell_type": "code",
   "execution_count": 31,
   "outputs": [],
   "source": [
    "# data source: https://s3-api.us-geo.objectstorage.softlayer.net/cf-courses-data/CognitiveClass/ML0101ENv3/labs/FuelConsumptionCo2.csv\n",
    "# Load the dataset\n",
    "df = pd.read_csv('data/FuelConsumptionCo2.csv')\n",
    "# Limit to numeric data\n",
    "df = df._get_numeric_data()\n",
    "\n",
    "# set data parts aside\n",
    "target = 'CO2EMISSIONS'\n",
    "X = df.drop(columns=[target])\n",
    "# Separate the labels\n",
    "y = df[target]\n"
   ],
   "metadata": {
    "collapsed": false,
    "pycharm": {
     "name": "#%%\n",
     "is_executing": false
    }
   }
  },
  {
   "cell_type": "code",
   "execution_count": 32,
   "outputs": [
    {
     "data": {
      "text/plain": "     MODELYEAR  ENGINESIZE  CYLINDERS  FUELCONSUMPTION_CITY  \\\n466       2014         2.4          4                  11.5   \n524       2014         1.6          4                   9.9   \n995       2014         3.5          6                  14.2   \n945       2014         2.5          4                   9.6   \n590       2014         2.0          4                  10.2   \n\n     FUELCONSUMPTION_HWY  FUELCONSUMPTION_COMB  FUELCONSUMPTION_COMB_MPG  \\\n466                  8.2                  10.0                        28   \n524                  7.5                   8.8                        32   \n995                 10.3                  12.4                        23   \n945                  7.4                   8.6                        33   \n590                  7.8                   9.1                        31   \n\n     CO2EMISSIONS  \n466           230  \n524           202  \n995           285  \n945           198  \n590           209  ",
      "text/html": "<div>\n<style scoped>\n    .dataframe tbody tr th:only-of-type {\n        vertical-align: middle;\n    }\n\n    .dataframe tbody tr th {\n        vertical-align: top;\n    }\n\n    .dataframe thead th {\n        text-align: right;\n    }\n</style>\n<table border=\"1\" class=\"dataframe\">\n  <thead>\n    <tr style=\"text-align: right;\">\n      <th></th>\n      <th>MODELYEAR</th>\n      <th>ENGINESIZE</th>\n      <th>CYLINDERS</th>\n      <th>FUELCONSUMPTION_CITY</th>\n      <th>FUELCONSUMPTION_HWY</th>\n      <th>FUELCONSUMPTION_COMB</th>\n      <th>FUELCONSUMPTION_COMB_MPG</th>\n      <th>CO2EMISSIONS</th>\n    </tr>\n  </thead>\n  <tbody>\n    <tr>\n      <th>466</th>\n      <td>2014</td>\n      <td>2.4</td>\n      <td>4</td>\n      <td>11.5</td>\n      <td>8.2</td>\n      <td>10.0</td>\n      <td>28</td>\n      <td>230</td>\n    </tr>\n    <tr>\n      <th>524</th>\n      <td>2014</td>\n      <td>1.6</td>\n      <td>4</td>\n      <td>9.9</td>\n      <td>7.5</td>\n      <td>8.8</td>\n      <td>32</td>\n      <td>202</td>\n    </tr>\n    <tr>\n      <th>995</th>\n      <td>2014</td>\n      <td>3.5</td>\n      <td>6</td>\n      <td>14.2</td>\n      <td>10.3</td>\n      <td>12.4</td>\n      <td>23</td>\n      <td>285</td>\n    </tr>\n    <tr>\n      <th>945</th>\n      <td>2014</td>\n      <td>2.5</td>\n      <td>4</td>\n      <td>9.6</td>\n      <td>7.4</td>\n      <td>8.6</td>\n      <td>33</td>\n      <td>198</td>\n    </tr>\n    <tr>\n      <th>590</th>\n      <td>2014</td>\n      <td>2.0</td>\n      <td>4</td>\n      <td>10.2</td>\n      <td>7.8</td>\n      <td>9.1</td>\n      <td>31</td>\n      <td>209</td>\n    </tr>\n  </tbody>\n</table>\n</div>"
     },
     "metadata": {},
     "output_type": "execute_result",
     "execution_count": 32
    }
   ],
   "source": [
    "df.sample(5)"
   ],
   "metadata": {
    "collapsed": false,
    "pycharm": {
     "name": "#%%\n",
     "is_executing": false
    }
   }
  },
  {
   "cell_type": "code",
   "execution_count": 39,
   "outputs": [
    {
     "name": "stdout",
     "text": [
      "<class 'pandas.core.frame.DataFrame'>\n",
      "RangeIndex: 1067 entries, 0 to 1066\n",
      "Data columns (total 8 columns):\n",
      " #   Column                    Non-Null Count  Dtype  \n",
      "---  ------                    --------------  -----  \n",
      " 0   MODELYEAR                 1067 non-null   int64  \n",
      " 1   ENGINESIZE                1067 non-null   float64\n",
      " 2   CYLINDERS                 1067 non-null   int64  \n",
      " 3   FUELCONSUMPTION_CITY      1067 non-null   float64\n",
      " 4   FUELCONSUMPTION_HWY       1067 non-null   float64\n",
      " 5   FUELCONSUMPTION_COMB      1067 non-null   float64\n",
      " 6   FUELCONSUMPTION_COMB_MPG  1067 non-null   int64  \n",
      " 7   CO2EMISSIONS              1067 non-null   int64  \n",
      "dtypes: float64(4), int64(4)\n",
      "memory usage: 66.8 KB\n"
     ],
     "output_type": "stream"
    }
   ],
   "source": [
    "df.info()"
   ],
   "metadata": {
    "collapsed": false,
    "pycharm": {
     "name": "#%%\n",
     "is_executing": false
    }
   }
  },
  {
   "cell_type": "markdown",
   "source": [
    "## II. Modeling\n",
    "### II.1. Train-test split"
   ],
   "metadata": {
    "collapsed": false,
    "pycharm": {
     "name": "#%% md\n"
    }
   }
  },
  {
   "cell_type": "code",
   "execution_count": 33,
   "outputs": [
    {
     "name": "stdout",
     "text": [
      "Shape of TRAIN set:  (714, 7)\n",
      "Shape of TEST set:  (353, 7)\n"
     ],
     "output_type": "stream"
    }
   ],
   "source": [
    "# X: input\n",
    "# y: output (labels) \n",
    "X_train, X_test, y_train, y_test = train_test_split(X, y, test_size=0.33, random_state=42)\n",
    "\n",
    "print('Shape of TRAIN set: ', X_train.shape)\n",
    "print('Shape of TEST set: ', X_test.shape)"
   ],
   "metadata": {
    "collapsed": false,
    "pycharm": {
     "name": "#%%\n",
     "is_executing": false
    }
   }
  },
  {
   "cell_type": "markdown",
   "source": [
    "### II.2. Train the model\n"
   ],
   "metadata": {
    "collapsed": false,
    "pycharm": {
     "name": "#%% md\n"
    }
   }
  },
  {
   "cell_type": "code",
   "execution_count": 34,
   "outputs": [
    {
     "data": {
      "text/plain": "LinearRegression(copy_X=True, fit_intercept=True, n_jobs=None, normalize=False)"
     },
     "metadata": {},
     "output_type": "execute_result",
     "execution_count": 34
    }
   ],
   "source": [
    "regr = LinearRegression()\n",
    "regr.fit(X_train,y_train)"
   ],
   "metadata": {
    "collapsed": false,
    "pycharm": {
     "name": "#%%\n",
     "is_executing": false
    }
   }
  },
  {
   "cell_type": "markdown",
   "source": [
    "### II.3. Testing the model's performance"
   ],
   "metadata": {
    "collapsed": false,
    "pycharm": {
     "name": "#%% md\n"
    }
   }
  },
  {
   "cell_type": "code",
   "execution_count": 35,
   "outputs": [],
   "source": [
    "prediction = regr.predict(X_test)\n"
   ],
   "metadata": {
    "collapsed": false,
    "pycharm": {
     "name": "#%%\n",
     "is_executing": false
    }
   }
  },
  {
   "cell_type": "markdown",
   "source": [
    "### Mean Absolute Error (MEA)"
   ],
   "metadata": {
    "collapsed": false
   }
  },
  {
   "cell_type": "code",
   "execution_count": 36,
   "outputs": [
    {
     "name": "stdout",
     "text": [
      "Mean Absolute Error:  13.435273769170282\n"
     ],
     "output_type": "stream"
    }
   ],
   "source": [
    "MAE = mean_absolute_error(y_test, prediction)\n",
    "print('Mean Absolute Error: ', MAE)"
   ],
   "metadata": {
    "collapsed": false,
    "pycharm": {
     "name": "#%%\n",
     "is_executing": false
    }
   }
  },
  {
   "cell_type": "markdown",
   "source": [
    "### Mean Squared Error (MSE)"
   ],
   "metadata": {
    "collapsed": false
   }
  },
  {
   "cell_type": "code",
   "execution_count": 37,
   "outputs": [
    {
     "name": "stdout",
     "text": [
      "MSE:  429.54198122304246\n"
     ],
     "output_type": "stream"
    }
   ],
   "source": [
    "MSE = mean_squared_error(y_test, prediction)\n",
    "print('MSE: ',MSE)"
   ],
   "metadata": {
    "collapsed": false,
    "pycharm": {
     "name": "#%%\n",
     "is_executing": false
    }
   }
  },
  {
   "cell_type": "markdown",
   "source": [
    "### R2 Score"
   ],
   "metadata": {
    "collapsed": false
   }
  },
  {
   "cell_type": "code",
   "execution_count": 38,
   "outputs": [
    {
     "name": "stdout",
     "text": [
      "R2:  0.8945203026294815\n"
     ],
     "output_type": "stream"
    }
   ],
   "source": [
    "R2 = r2_score(y_test, prediction)\n",
    "print('R2: ', R2)"
   ],
   "metadata": {
    "collapsed": false,
    "pycharm": {
     "name": "#%%\n",
     "is_executing": false
    }
   }
  }
 ],
 "metadata": {
  "kernelspec": {
   "display_name": "Python 3",
   "language": "python",
   "name": "python3"
  },
  "language_info": {
   "codemirror_mode": {
    "name": "ipython",
    "version": 2
   },
   "file_extension": ".py",
   "mimetype": "text/x-python",
   "name": "python",
   "nbconvert_exporter": "python",
   "pygments_lexer": "ipython2",
   "version": "2.7.6"
  },
  "pycharm": {
   "stem_cell": {
    "cell_type": "raw",
    "source": [],
    "metadata": {
     "collapsed": false
    }
   }
  }
 },
 "nbformat": 4,
 "nbformat_minor": 0
}