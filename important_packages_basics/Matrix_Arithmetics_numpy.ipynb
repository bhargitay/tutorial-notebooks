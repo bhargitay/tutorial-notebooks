{
 "cells": [
  {
   "cell_type": "code",
   "execution_count": 5,
   "metadata": {
    "collapsed": true,
    "pycharm": {
     "is_executing": false
    }
   },
   "outputs": [],
   "source": [
    "import numpy as np\n",
    "import pandas as pd\n"
   ]
  },
  {
   "cell_type": "markdown",
   "source": [
    "Matrix multiplication - numpy.dot\n",
    "\n",
    "https://www.youtube.com/watch?v=yAgqlTfWc9E\n",
    "\n",
    "https://docs.scipy.org/doc/numpy/reference/generated/numpy.dot.html\n",
    "\n",
    "\n"
   ],
   "metadata": {
    "collapsed": false
   }
  },
  {
   "cell_type": "markdown",
   "source": [],
   "metadata": {
    "collapsed": false,
    "pycharm": {
     "name": "#%% md\n"
    }
   }
  },
  {
   "cell_type": "code",
   "execution_count": 2,
   "outputs": [
    {
     "data": {
      "text/plain": "130"
     },
     "metadata": {},
     "output_type": "execute_result",
     "execution_count": 2
    }
   ],
   "source": [
    "# matrices\n",
    "\n",
    "a = [1,2,3,4,5]\n",
    "b = [6,7,8,9,10]\n",
    "\n",
    "np.dot(a,b)"
   ],
   "metadata": {
    "collapsed": false,
    "pycharm": {
     "name": "#%%\n",
     "is_executing": false
    }
   }
  },
  {
   "cell_type": "markdown",
   "source": [],
   "metadata": {
    "collapsed": false
   }
  },
  {
   "cell_type": "code",
   "execution_count": 3,
   "outputs": [
    {
     "data": {
      "text/plain": "array([560, 690, 860, 795, 776, 898, 933, 701, 807, 784, 833])"
     },
     "metadata": {},
     "output_type": "execute_result",
     "execution_count": 3
    }
   ],
   "source": [],
   "metadata": {
    "collapsed": false,
    "pycharm": {
     "name": "#%%\n",
     "is_executing": false
    }
   }
  },
  {
   "cell_type": "code",
   "execution_count": null,
   "outputs": [],
   "source": [
    "#matrix multiplication\n",
    "print np.dot(x[:,1], x[:,0])\n",
    "\n",
    "# you can multiple arrays into matrices\n",
    "y=[3,4]\n",
    "\n",
    "x = np.array([[120, 150, 180, 165, 172, 182, 191, 151, 153, 188, 175],    # height \n",
    "             [50, 60, 80, 75, 65, 88, 90, 62, 87, 55, 77]])               #weight\n",
    "\n",
    "np.dot(y,x)"
   ],
   "metadata": {
    "collapsed": false,
    "pycharm": {
     "name": "#%%\n"
    }
   }
  },
  {
   "cell_type": "markdown",
   "source": [
    "## EXAMPLE: Olympics\n",
    "Imagine a point system in which each country is awarded 4 points for each\n",
    "gold medal,  2 points for each silver medal, and one point for each \n",
    "bronze medal.  \n",
    "\n",
    "Using the numpy.dot function, create a new dataframe called \n",
    "'olympic_points_df' that includes:\n",
    "    a) a column called 'country_name' with the country name\n",
    "    b) a column called 'points' with the total number of points the country\n",
    "       earned at the Sochi olympics.\n",
    "\n",
    "You do not need to call the function in your code when running it in the\n",
    "browser - the grader will do that automatically when you submit or test it."
   ],
   "metadata": {
    "collapsed": false
   }
  },
  {
   "cell_type": "code",
   "execution_count": 6,
   "outputs": [
    {
     "data": {
      "text/plain": "      country_name  gold  silver  bronze\n0     Russian Fed.    13      11       9\n1           Norway    11       5      10\n2           Canada    10      10       5\n3    United States     9       7      12\n4      Netherlands     8       7       9\n5          Germany     8       6       5\n6      Switzerland     6       3       2\n7          Belarus     5       0       1\n8          Austria     4       8       5\n9           France     4       4       7\n10          Poland     4       1       1\n11           China     3       4       2\n12           Korea     3       3       2\n13          Sweden     2       7       6\n14  Czech Republic     2       4       2\n15        Slovenia     2       2       4\n16           Japan     1       4       3\n17         Finland     1       3       1\n18   Great Britain     1       1       2\n19         Ukraine     1       0       1\n20        Slovakia     1       0       0\n21           Italy     0       2       6\n22          Latvia     0       2       2\n23       Australia     0       2       1\n24         Croatia     0       1       0\n25      Kazakhstan     0       0       1",
      "text/html": "<div>\n<style scoped>\n    .dataframe tbody tr th:only-of-type {\n        vertical-align: middle;\n    }\n\n    .dataframe tbody tr th {\n        vertical-align: top;\n    }\n\n    .dataframe thead th {\n        text-align: right;\n    }\n</style>\n<table border=\"1\" class=\"dataframe\">\n  <thead>\n    <tr style=\"text-align: right;\">\n      <th></th>\n      <th>country_name</th>\n      <th>gold</th>\n      <th>silver</th>\n      <th>bronze</th>\n    </tr>\n  </thead>\n  <tbody>\n    <tr>\n      <th>0</th>\n      <td>Russian Fed.</td>\n      <td>13</td>\n      <td>11</td>\n      <td>9</td>\n    </tr>\n    <tr>\n      <th>1</th>\n      <td>Norway</td>\n      <td>11</td>\n      <td>5</td>\n      <td>10</td>\n    </tr>\n    <tr>\n      <th>2</th>\n      <td>Canada</td>\n      <td>10</td>\n      <td>10</td>\n      <td>5</td>\n    </tr>\n    <tr>\n      <th>3</th>\n      <td>United States</td>\n      <td>9</td>\n      <td>7</td>\n      <td>12</td>\n    </tr>\n    <tr>\n      <th>4</th>\n      <td>Netherlands</td>\n      <td>8</td>\n      <td>7</td>\n      <td>9</td>\n    </tr>\n    <tr>\n      <th>5</th>\n      <td>Germany</td>\n      <td>8</td>\n      <td>6</td>\n      <td>5</td>\n    </tr>\n    <tr>\n      <th>6</th>\n      <td>Switzerland</td>\n      <td>6</td>\n      <td>3</td>\n      <td>2</td>\n    </tr>\n    <tr>\n      <th>7</th>\n      <td>Belarus</td>\n      <td>5</td>\n      <td>0</td>\n      <td>1</td>\n    </tr>\n    <tr>\n      <th>8</th>\n      <td>Austria</td>\n      <td>4</td>\n      <td>8</td>\n      <td>5</td>\n    </tr>\n    <tr>\n      <th>9</th>\n      <td>France</td>\n      <td>4</td>\n      <td>4</td>\n      <td>7</td>\n    </tr>\n    <tr>\n      <th>10</th>\n      <td>Poland</td>\n      <td>4</td>\n      <td>1</td>\n      <td>1</td>\n    </tr>\n    <tr>\n      <th>11</th>\n      <td>China</td>\n      <td>3</td>\n      <td>4</td>\n      <td>2</td>\n    </tr>\n    <tr>\n      <th>12</th>\n      <td>Korea</td>\n      <td>3</td>\n      <td>3</td>\n      <td>2</td>\n    </tr>\n    <tr>\n      <th>13</th>\n      <td>Sweden</td>\n      <td>2</td>\n      <td>7</td>\n      <td>6</td>\n    </tr>\n    <tr>\n      <th>14</th>\n      <td>Czech Republic</td>\n      <td>2</td>\n      <td>4</td>\n      <td>2</td>\n    </tr>\n    <tr>\n      <th>15</th>\n      <td>Slovenia</td>\n      <td>2</td>\n      <td>2</td>\n      <td>4</td>\n    </tr>\n    <tr>\n      <th>16</th>\n      <td>Japan</td>\n      <td>1</td>\n      <td>4</td>\n      <td>3</td>\n    </tr>\n    <tr>\n      <th>17</th>\n      <td>Finland</td>\n      <td>1</td>\n      <td>3</td>\n      <td>1</td>\n    </tr>\n    <tr>\n      <th>18</th>\n      <td>Great Britain</td>\n      <td>1</td>\n      <td>1</td>\n      <td>2</td>\n    </tr>\n    <tr>\n      <th>19</th>\n      <td>Ukraine</td>\n      <td>1</td>\n      <td>0</td>\n      <td>1</td>\n    </tr>\n    <tr>\n      <th>20</th>\n      <td>Slovakia</td>\n      <td>1</td>\n      <td>0</td>\n      <td>0</td>\n    </tr>\n    <tr>\n      <th>21</th>\n      <td>Italy</td>\n      <td>0</td>\n      <td>2</td>\n      <td>6</td>\n    </tr>\n    <tr>\n      <th>22</th>\n      <td>Latvia</td>\n      <td>0</td>\n      <td>2</td>\n      <td>2</td>\n    </tr>\n    <tr>\n      <th>23</th>\n      <td>Australia</td>\n      <td>0</td>\n      <td>2</td>\n      <td>1</td>\n    </tr>\n    <tr>\n      <th>24</th>\n      <td>Croatia</td>\n      <td>0</td>\n      <td>1</td>\n      <td>0</td>\n    </tr>\n    <tr>\n      <th>25</th>\n      <td>Kazakhstan</td>\n      <td>0</td>\n      <td>0</td>\n      <td>1</td>\n    </tr>\n  </tbody>\n</table>\n</div>"
     },
     "metadata": {},
     "output_type": "execute_result",
     "execution_count": 6
    }
   ],
   "source": [
    "countries = ['Russian Fed.', 'Norway', 'Canada', 'United States',\n",
    "                 'Netherlands', 'Germany', 'Switzerland', 'Belarus',\n",
    "                 'Austria', 'France', 'Poland', 'China', 'Korea', \n",
    "                 'Sweden', 'Czech Republic', 'Slovenia', 'Japan',\n",
    "                 'Finland', 'Great Britain', 'Ukraine', 'Slovakia',\n",
    "                 'Italy', 'Latvia', 'Australia', 'Croatia', 'Kazakhstan']\n",
    "\n",
    "gold = [13, 11, 10, 9, 8, 8, 6, 5, 4, 4, 4, 3, 3, 2, 2, 2, 1, 1, 1, 1, 1, 0, 0, 0, 0, 0]\n",
    "silver = [11, 5, 10, 7, 7, 6, 3, 0, 8, 4, 1, 4, 3, 7, 4, 2, 4, 3, 1, 0, 0, 2, 2, 2, 1, 0]\n",
    "bronze = [9, 10, 5, 12, 9, 5, 2, 1, 5, 7, 1, 2, 2, 6, 2, 4, 3, 1, 2, 1, 0, 6, 2, 1, 0, 1]\n",
    "    \n",
    "olympic_medal_counts = {'country_name':pd.Series(countries),\n",
    "                            'gold': pd.Series(gold),\n",
    "                            'silver': pd.Series(silver),\n",
    "                            'bronze': pd.Series(bronze)}\n",
    "df = pd.DataFrame(olympic_medal_counts)\n",
    "    \n",
    "df"
   ],
   "metadata": {
    "collapsed": false,
    "pycharm": {
     "name": "#%%\n",
     "is_executing": false
    }
   }
  },
  {
   "cell_type": "markdown",
   "source": [],
   "metadata": {
    "collapsed": false
   }
  },
  {
   "cell_type": "code",
   "execution_count": 7,
   "outputs": [
    {
     "data": {
      "text/plain": "    gold  silver  bronze\n0     13      11       9\n1     11       5      10\n2     10      10       5\n3      9       7      12\n4      8       7       9\n5      8       6       5\n6      6       3       2\n7      5       0       1\n8      4       8       5\n9      4       4       7\n10     4       1       1\n11     3       4       2\n12     3       3       2\n13     2       7       6\n14     2       4       2\n15     2       2       4\n16     1       4       3\n17     1       3       1\n18     1       1       2\n19     1       0       1\n20     1       0       0\n21     0       2       6\n22     0       2       2\n23     0       2       1\n24     0       1       0\n25     0       0       1",
      "text/html": "<div>\n<style scoped>\n    .dataframe tbody tr th:only-of-type {\n        vertical-align: middle;\n    }\n\n    .dataframe tbody tr th {\n        vertical-align: top;\n    }\n\n    .dataframe thead th {\n        text-align: right;\n    }\n</style>\n<table border=\"1\" class=\"dataframe\">\n  <thead>\n    <tr style=\"text-align: right;\">\n      <th></th>\n      <th>gold</th>\n      <th>silver</th>\n      <th>bronze</th>\n    </tr>\n  </thead>\n  <tbody>\n    <tr>\n      <th>0</th>\n      <td>13</td>\n      <td>11</td>\n      <td>9</td>\n    </tr>\n    <tr>\n      <th>1</th>\n      <td>11</td>\n      <td>5</td>\n      <td>10</td>\n    </tr>\n    <tr>\n      <th>2</th>\n      <td>10</td>\n      <td>10</td>\n      <td>5</td>\n    </tr>\n    <tr>\n      <th>3</th>\n      <td>9</td>\n      <td>7</td>\n      <td>12</td>\n    </tr>\n    <tr>\n      <th>4</th>\n      <td>8</td>\n      <td>7</td>\n      <td>9</td>\n    </tr>\n    <tr>\n      <th>5</th>\n      <td>8</td>\n      <td>6</td>\n      <td>5</td>\n    </tr>\n    <tr>\n      <th>6</th>\n      <td>6</td>\n      <td>3</td>\n      <td>2</td>\n    </tr>\n    <tr>\n      <th>7</th>\n      <td>5</td>\n      <td>0</td>\n      <td>1</td>\n    </tr>\n    <tr>\n      <th>8</th>\n      <td>4</td>\n      <td>8</td>\n      <td>5</td>\n    </tr>\n    <tr>\n      <th>9</th>\n      <td>4</td>\n      <td>4</td>\n      <td>7</td>\n    </tr>\n    <tr>\n      <th>10</th>\n      <td>4</td>\n      <td>1</td>\n      <td>1</td>\n    </tr>\n    <tr>\n      <th>11</th>\n      <td>3</td>\n      <td>4</td>\n      <td>2</td>\n    </tr>\n    <tr>\n      <th>12</th>\n      <td>3</td>\n      <td>3</td>\n      <td>2</td>\n    </tr>\n    <tr>\n      <th>13</th>\n      <td>2</td>\n      <td>7</td>\n      <td>6</td>\n    </tr>\n    <tr>\n      <th>14</th>\n      <td>2</td>\n      <td>4</td>\n      <td>2</td>\n    </tr>\n    <tr>\n      <th>15</th>\n      <td>2</td>\n      <td>2</td>\n      <td>4</td>\n    </tr>\n    <tr>\n      <th>16</th>\n      <td>1</td>\n      <td>4</td>\n      <td>3</td>\n    </tr>\n    <tr>\n      <th>17</th>\n      <td>1</td>\n      <td>3</td>\n      <td>1</td>\n    </tr>\n    <tr>\n      <th>18</th>\n      <td>1</td>\n      <td>1</td>\n      <td>2</td>\n    </tr>\n    <tr>\n      <th>19</th>\n      <td>1</td>\n      <td>0</td>\n      <td>1</td>\n    </tr>\n    <tr>\n      <th>20</th>\n      <td>1</td>\n      <td>0</td>\n      <td>0</td>\n    </tr>\n    <tr>\n      <th>21</th>\n      <td>0</td>\n      <td>2</td>\n      <td>6</td>\n    </tr>\n    <tr>\n      <th>22</th>\n      <td>0</td>\n      <td>2</td>\n      <td>2</td>\n    </tr>\n    <tr>\n      <th>23</th>\n      <td>0</td>\n      <td>2</td>\n      <td>1</td>\n    </tr>\n    <tr>\n      <th>24</th>\n      <td>0</td>\n      <td>1</td>\n      <td>0</td>\n    </tr>\n    <tr>\n      <th>25</th>\n      <td>0</td>\n      <td>0</td>\n      <td>1</td>\n    </tr>\n  </tbody>\n</table>\n</div>"
     },
     "metadata": {},
     "output_type": "execute_result",
     "execution_count": 7
    }
   ],
   "source": [
    "medal_count  = df[['gold','silver','bronze']]\n",
    "\n",
    "medal_count"
   ],
   "metadata": {
    "collapsed": false,
    "pycharm": {
     "name": "#%%\n",
     "is_executing": false
    }
   }
  },
  {
   "cell_type": "markdown",
   "source": [],
   "metadata": {
    "collapsed": false
   }
  },
  {
   "cell_type": "code",
   "execution_count": 8,
   "outputs": [
    {
     "data": {
      "text/plain": "array([83, 64, 65, 62, 55, 49, 32, 21, 37, 31, 19, 22, 20, 28, 18, 16, 15,\n       11,  8,  5,  4, 10,  6,  5,  2,  1], dtype=int64)"
     },
     "metadata": {},
     "output_type": "execute_result",
     "execution_count": 8
    }
   ],
   "source": [
    "points = np.dot(medal_count, [4,2,1])\n",
    "\n",
    "points"
   ],
   "metadata": {
    "collapsed": false,
    "pycharm": {
     "name": "#%%\n",
     "is_executing": false
    }
   }
  },
  {
   "cell_type": "markdown",
   "source": [],
   "metadata": {
    "collapsed": false
   }
  },
  {
   "cell_type": "code",
   "execution_count": 9,
   "outputs": [
    {
     "data": {
      "text/plain": "      country_name  points\n0     Russian Fed.      83\n1           Norway      64\n2           Canada      65\n3    United States      62\n4      Netherlands      55\n5          Germany      49\n6      Switzerland      32\n7          Belarus      21\n8          Austria      37\n9           France      31\n10          Poland      19\n11           China      22\n12           Korea      20\n13          Sweden      28\n14  Czech Republic      18\n15        Slovenia      16\n16           Japan      15\n17         Finland      11\n18   Great Britain       8\n19         Ukraine       5\n20        Slovakia       4\n21           Italy      10\n22          Latvia       6\n23       Australia       5\n24         Croatia       2\n25      Kazakhstan       1",
      "text/html": "<div>\n<style scoped>\n    .dataframe tbody tr th:only-of-type {\n        vertical-align: middle;\n    }\n\n    .dataframe tbody tr th {\n        vertical-align: top;\n    }\n\n    .dataframe thead th {\n        text-align: right;\n    }\n</style>\n<table border=\"1\" class=\"dataframe\">\n  <thead>\n    <tr style=\"text-align: right;\">\n      <th></th>\n      <th>country_name</th>\n      <th>points</th>\n    </tr>\n  </thead>\n  <tbody>\n    <tr>\n      <th>0</th>\n      <td>Russian Fed.</td>\n      <td>83</td>\n    </tr>\n    <tr>\n      <th>1</th>\n      <td>Norway</td>\n      <td>64</td>\n    </tr>\n    <tr>\n      <th>2</th>\n      <td>Canada</td>\n      <td>65</td>\n    </tr>\n    <tr>\n      <th>3</th>\n      <td>United States</td>\n      <td>62</td>\n    </tr>\n    <tr>\n      <th>4</th>\n      <td>Netherlands</td>\n      <td>55</td>\n    </tr>\n    <tr>\n      <th>5</th>\n      <td>Germany</td>\n      <td>49</td>\n    </tr>\n    <tr>\n      <th>6</th>\n      <td>Switzerland</td>\n      <td>32</td>\n    </tr>\n    <tr>\n      <th>7</th>\n      <td>Belarus</td>\n      <td>21</td>\n    </tr>\n    <tr>\n      <th>8</th>\n      <td>Austria</td>\n      <td>37</td>\n    </tr>\n    <tr>\n      <th>9</th>\n      <td>France</td>\n      <td>31</td>\n    </tr>\n    <tr>\n      <th>10</th>\n      <td>Poland</td>\n      <td>19</td>\n    </tr>\n    <tr>\n      <th>11</th>\n      <td>China</td>\n      <td>22</td>\n    </tr>\n    <tr>\n      <th>12</th>\n      <td>Korea</td>\n      <td>20</td>\n    </tr>\n    <tr>\n      <th>13</th>\n      <td>Sweden</td>\n      <td>28</td>\n    </tr>\n    <tr>\n      <th>14</th>\n      <td>Czech Republic</td>\n      <td>18</td>\n    </tr>\n    <tr>\n      <th>15</th>\n      <td>Slovenia</td>\n      <td>16</td>\n    </tr>\n    <tr>\n      <th>16</th>\n      <td>Japan</td>\n      <td>15</td>\n    </tr>\n    <tr>\n      <th>17</th>\n      <td>Finland</td>\n      <td>11</td>\n    </tr>\n    <tr>\n      <th>18</th>\n      <td>Great Britain</td>\n      <td>8</td>\n    </tr>\n    <tr>\n      <th>19</th>\n      <td>Ukraine</td>\n      <td>5</td>\n    </tr>\n    <tr>\n      <th>20</th>\n      <td>Slovakia</td>\n      <td>4</td>\n    </tr>\n    <tr>\n      <th>21</th>\n      <td>Italy</td>\n      <td>10</td>\n    </tr>\n    <tr>\n      <th>22</th>\n      <td>Latvia</td>\n      <td>6</td>\n    </tr>\n    <tr>\n      <th>23</th>\n      <td>Australia</td>\n      <td>5</td>\n    </tr>\n    <tr>\n      <th>24</th>\n      <td>Croatia</td>\n      <td>2</td>\n    </tr>\n    <tr>\n      <th>25</th>\n      <td>Kazakhstan</td>\n      <td>1</td>\n    </tr>\n  </tbody>\n</table>\n</div>"
     },
     "metadata": {},
     "output_type": "execute_result",
     "execution_count": 9
    }
   ],
   "source": [
    "olympic_points = {'country_name': pd.Series(countries),\n",
    "                            'points': pd.Series(points)}  \n",
    "olympic_points_df = pd.DataFrame(olympic_points)\n",
    "    \n",
    "olympic_points_df"
   ],
   "metadata": {
    "collapsed": false,
    "pycharm": {
     "name": "#%%\n",
     "is_executing": false
    }
   }
  },
  {
   "cell_type": "markdown",
   "source": [],
   "metadata": {
    "collapsed": false
   }
  },
  {
   "cell_type": "code",
   "execution_count": null,
   "outputs": [],
   "source": [],
   "metadata": {
    "collapsed": false,
    "pycharm": {
     "name": "#%%\n"
    }
   }
  },
  {
   "cell_type": "markdown",
   "source": [],
   "metadata": {
    "collapsed": false
   }
  },
  {
   "cell_type": "code",
   "execution_count": null,
   "outputs": [],
   "source": [],
   "metadata": {
    "collapsed": false,
    "pycharm": {
     "name": "#%%#%% md\n"
    }
   }
  },
  {
   "cell_type": "code",
   "execution_count": 0,
   "outputs": [],
   "source": [],
   "metadata": {
    "collapsed": false,
    "pycharm": {
     "name": "#%%\n",
     "is_executing": false
    }
   }
  }
 ],
 "metadata": {
  "kernelspec": {
   "display_name": "Python 3",
   "language": "python",
   "name": "python3"
  },
  "language_info": {
   "codemirror_mode": {
    "name": "ipython",
    "version": 2
   },
   "file_extension": ".py",
   "mimetype": "text/x-python",
   "name": "python",
   "nbconvert_exporter": "python",
   "pygments_lexer": "ipython2",
   "version": "2.7.6"
  },
  "pycharm": {
   "stem_cell": {
    "cell_type": "raw",
    "source": [],
    "metadata": {
     "collapsed": false
    }
   }
  }
 },
 "nbformat": 4,
 "nbformat_minor": 0
}